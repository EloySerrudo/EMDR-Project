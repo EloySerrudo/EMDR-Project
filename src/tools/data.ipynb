{
 "cells": [
  {
   "cell_type": "code",
   "execution_count": null,
   "id": "1e313603",
   "metadata": {},
   "outputs": [
    {
     "name": "stdout",
     "output_type": "stream",
     "text": [
      "Error deserializando datos de sesión 4: invalid load key, 'x'.\n",
      "Error deserializando datos de sesión 3: invalid load key, 'x'.\n",
      "Error deserializando datos de sesión 2: invalid load key, 'x'.\n",
      "Error deserializando datos de sesión 1: name 'bmp_blob' is not defined\n",
      "Se leyeron 4 sesiones de la base de datos\n",
      "Error: name 'bmp_blob' is not defined\n"
     ]
    }
   ],
   "source": [
    "# En tu Jupyter Notebook\n",
    "from database_read import read_session_data, get_session_by_id\n",
    "\n",
    "# Cargar todos los datos\n",
    "datos = read_session_data()"
   ]
  },
  {
   "cell_type": "code",
   "execution_count": null,
   "id": "85c68d42",
   "metadata": {},
   "outputs": [],
   "source": []
  }
 ],
 "metadata": {
  "kernelspec": {
   "display_name": "base",
   "language": "python",
   "name": "python3"
  },
  "language_info": {
   "codemirror_mode": {
    "name": "ipython",
    "version": 3
   },
   "file_extension": ".py",
   "mimetype": "text/x-python",
   "name": "python",
   "nbconvert_exporter": "python",
   "pygments_lexer": "ipython3",
   "version": "3.12.7"
  }
 },
 "nbformat": 4,
 "nbformat_minor": 5
}
