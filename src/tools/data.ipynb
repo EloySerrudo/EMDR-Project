{
 "cells": [
  {
   "cell_type": "code",
   "execution_count": 3,
   "id": "2ae5345a",
   "metadata": {},
   "outputs": [],
   "source": [
    "import pandas as pd\n",
    "import numpy as np\n",
    "import matplotlib.pyplot as plt"
   ]
  },
  {
   "cell_type": "code",
   "execution_count": 4,
   "id": "fa2683e8",
   "metadata": {},
   "outputs": [],
   "source": [
    "path = r'd:\\Documentos\\Projects\\Python\\EMDR-Project\\src\\sensor\\data\\sensor_data_20250611_195404.csv'"
   ]
  },
  {
   "cell_type": "code",
   "execution_count": 5,
   "id": "caa8cc41",
   "metadata": {},
   "outputs": [
    {
     "name": "stdout",
     "output_type": "stream",
     "text": [
      "Información del DataFrame:\n",
      "<class 'pandas.core.frame.DataFrame'>\n",
      "Index: 240518 entries, 0 to 240517\n",
      "Data columns (total 6 columns):\n",
      " #   Column        Non-Null Count   Dtype  \n",
      "---  ------        --------------   -----  \n",
      " 0   Timestamp_ms  240518 non-null  int64  \n",
      " 1   EOG_raw       240518 non-null  int64  \n",
      " 2   EOG_filtrado  240518 non-null  float64\n",
      " 3   PPG_raw       240518 non-null  int64  \n",
      " 4   PPG_filtrado  240518 non-null  float64\n",
      " 5   BPM           240518 non-null  float64\n",
      "dtypes: float64(3), int64(3)\n",
      "memory usage: 12.8 MB\n",
      "None\n",
      "\n",
      "Primeras 5 filas:\n",
      "    Timestamp_ms  EOG_raw  EOG_filtrado  PPG_raw  PPG_filtrado  BPM\n",
      "ID                                                                 \n",
      "0              0      611      2.119196   -12662    -10.210935  0.0\n",
      "1              8    -2097      9.909152   -15130    -83.490696  0.0\n",
      "2             16    -3140     -6.843396   -16798   -337.215300  0.0\n",
      "3             24    -1581   -173.013615   -17906   -917.829791  0.0\n",
      "4             32    -5720   -665.882444   -18510  -1931.357013  0.0\n",
      "\n",
      "Últimas 5 filas:\n",
      "        Timestamp_ms  EOG_raw  EOG_filtrado  PPG_raw  PPG_filtrado        BPM\n",
      "ID                                                                           \n",
      "240513       1924104    -6386 -5.003244e+16   -10314 -11482.090344  72.533849\n",
      "240514       1924112    -1949 -5.003714e+16   -10540 -10673.865580  72.533849\n",
      "240515       1924120    -3674 -5.004176e+16   -11478  -9982.387787  72.533849\n",
      "240516       1924128    -1844 -5.004629e+16   -11923  -9411.318100  72.533849\n",
      "240517       1924136       74 -5.005073e+16   -12418  -8961.177724  72.533849\n",
      "\n",
      "Forma del DataFrame: (240518, 6)\n",
      "\n",
      "Tiempo total:\n",
      "Total en segundos: 1924.136\n",
      "Tiempo: 32 minutos y 4.136 segundos\n"
     ]
    }
   ],
   "source": [
    "# Cargar el archivo CSV en un DataFrame\n",
    "df = pd.read_csv(path, \n",
    "                 encoding='utf-8',  # Si hay caracteres especiales\n",
    "                 index_col=0)  # Si la primera columna es el índice\n",
    "\n",
    "# Mostrar información básica del DataFrame\n",
    "print(\"Información del DataFrame:\")\n",
    "print(df.info())\n",
    "print(\"\\nPrimeras 5 filas:\")\n",
    "print(df.head())\n",
    "print(\"\\nÚltimas 5 filas:\")\n",
    "print(df.tail())\n",
    "print(f\"\\nForma del DataFrame: {df.shape}\")\n",
    "print(f\"\\nTiempo total:\")\n",
    "# Convertir milisegundos a segundos y minutos\n",
    "milisegundos = 1924136\n",
    "\n",
    "# Convertir a segundos\n",
    "segundos_total = milisegundos / 1000\n",
    "print(f\"Total en segundos: {segundos_total}\")\n",
    "\n",
    "# Convertir a minutos y segundos\n",
    "minutos = int(segundos_total // 60)\n",
    "segundos = segundos_total % 60\n",
    "\n",
    "print(f\"Tiempo: {minutos} minutos y {segundos:.3f} segundos\")"
   ]
  },
  {
   "cell_type": "code",
   "execution_count": 6,
   "id": "f5e54da9",
   "metadata": {},
   "outputs": [],
   "source": [
    "import ipywidgets as widgets\n",
    "from IPython.display import display"
   ]
  },
  {
   "cell_type": "code",
   "execution_count": 7,
   "id": "f698dc8d",
   "metadata": {},
   "outputs": [],
   "source": [
    "# Habilitar widgets interactivos\n",
    "%matplotlib widget"
   ]
  },
  {
   "cell_type": "code",
   "execution_count": null,
   "id": "8f2664a0",
   "metadata": {},
   "outputs": [
    {
     "data": {
      "application/vnd.jupyter.widget-view+json": {
       "model_id": "d5fcb551f00a4d22b440627c3d613fa1",
       "version_major": 2,
       "version_minor": 0
      },
      "text/plain": [
       "interactive(children=(IntSlider(value=0, description='Inicio (s):', max=1894, step=30, style=SliderStyle(descr…"
      ]
     },
     "metadata": {},
     "output_type": "display_data"
    },
    {
     "data": {
      "text/plain": [
       "<function __main__.plot_eog_section(inicio_segundos=0)>"
      ]
     },
     "execution_count": 8,
     "metadata": {},
     "output_type": "execute_result"
    }
   ],
   "source": [
    "# Convertir timestamp a segundos relativos\n",
    "df['segundos'] = (df['Timestamp_ms'] - df['Timestamp_ms'].iloc[0]) / 1000\n",
    "\n",
    "# Calcular número total de ventanas de 30 segundos\n",
    "duracion_total = df['segundos'].iloc[-1]\n",
    "num_ventanas = int(duracion_total // 30) + 1"
   ]
  },
  {
   "cell_type": "code",
   "execution_count": 9,
   "id": "8567ca5b",
   "metadata": {},
   "outputs": [],
   "source": [
    "def plot_eog_section(inicio_segundos=0):\n",
    "    fig, ax = plt.subplots(figsize=(12, 6))\n",
    "    \n",
    "    # Filtrar datos para ventana de 30 segundos\n",
    "    fin_segundos = inicio_segundos + 30\n",
    "    mask = (df['segundos'] >= inicio_segundos) & (df['segundos'] <= fin_segundos)\n",
    "    datos_ventana = df[mask]\n",
    "    \n",
    "    ax.plot(datos_ventana['segundos'], datos_ventana['PPG_raw'], 'b-', linewidth=0.8)\n",
    "    ax.set_xlabel('Tiempo (segundos)')\n",
    "    ax.set_ylabel('PPG Raw')\n",
    "    ax.set_title(f'PPG Raw - Segundos {inicio_segundos} a {fin_segundos}')\n",
    "    ax.grid(True, alpha=0.3)\n",
    "    ax.set_xlim(inicio_segundos, fin_segundos)\n",
    "    \n",
    "    plt.tight_layout()\n",
    "    plt.show()"
   ]
  },
  {
   "cell_type": "code",
   "execution_count": 10,
   "id": "86bc152b",
   "metadata": {},
   "outputs": [
    {
     "data": {
      "application/vnd.jupyter.widget-view+json": {
       "model_id": "93fbf5a4b04d402db2c7bbb2cce5105e",
       "version_major": 2,
       "version_minor": 0
      },
      "text/plain": [
       "interactive(children=(IntSlider(value=0, description='Inicio (s):', max=1894, step=30, style=SliderStyle(descr…"
      ]
     },
     "metadata": {},
     "output_type": "display_data"
    },
    {
     "data": {
      "text/plain": [
       "<function __main__.plot_eog_section(inicio_segundos=0)>"
      ]
     },
     "execution_count": 10,
     "metadata": {},
     "output_type": "execute_result"
    }
   ],
   "source": [
    "\n",
    "\n",
    "# Crear slider interactivo\n",
    "slider = widgets.IntSlider(\n",
    "    value=0,\n",
    "    min=0,\n",
    "    max=int(duracion_total - 30),\n",
    "    step=30,\n",
    "    description='Inicio (s):',\n",
    "    style={'description_width': 'initial'}\n",
    ")\n",
    "\n",
    "# Conectar slider con la función\n",
    "widgets.interact(plot_eog_section, inicio_segundos=slider)"
   ]
  },
  {
   "cell_type": "code",
   "execution_count": null,
   "id": "3e122523",
   "metadata": {},
   "outputs": [],
   "source": []
  }
 ],
 "metadata": {
  "kernelspec": {
   "display_name": "base",
   "language": "python",
   "name": "python3"
  },
  "language_info": {
   "codemirror_mode": {
    "name": "ipython",
    "version": 3
   },
   "file_extension": ".py",
   "mimetype": "text/x-python",
   "name": "python",
   "nbconvert_exporter": "python",
   "pygments_lexer": "ipython3",
   "version": "3.11.8"
  }
 },
 "nbformat": 4,
 "nbformat_minor": 5
}
