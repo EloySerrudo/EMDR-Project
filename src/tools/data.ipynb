{
 "cells": [
  {
   "cell_type": "code",
   "execution_count": 3,
   "id": "2ae5345a",
   "metadata": {},
   "outputs": [],
   "source": [
    "import pandas as pd\n",
    "import numpy as np\n",
    "import matplotlib.pyplot as plt"
   ]
  },
  {
   "cell_type": "code",
   "execution_count": 4,
   "id": "fa2683e8",
   "metadata": {},
   "outputs": [],
   "source": [
    "path = r'd:\\Documentos\\Projects\\Python\\EMDR-Project\\src\\sensor\\data\\sensor_data_20250611_195404.csv'"
   ]
  },
  {
   "cell_type": "code",
   "execution_count": 5,
   "id": "caa8cc41",
   "metadata": {},
   "outputs": [
    {
     "name": "stdout",
     "output_type": "stream",
     "text": [
      "Información del DataFrame:\n",
      "<class 'pandas.core.frame.DataFrame'>\n",
      "Index: 240518 entries, 0 to 240517\n",
      "Data columns (total 6 columns):\n",
      " #   Column        Non-Null Count   Dtype  \n",
      "---  ------        --------------   -----  \n",
      " 0   Timestamp_ms  240518 non-null  int64  \n",
      " 1   EOG_raw       240518 non-null  int64  \n",
      " 2   EOG_filtrado  240518 non-null  float64\n",
      " 3   PPG_raw       240518 non-null  int64  \n",
      " 4   PPG_filtrado  240518 non-null  float64\n",
      " 5   BPM           240518 non-null  float64\n",
      "dtypes: float64(3), int64(3)\n",
      "memory usage: 12.8 MB\n",
      "None\n",
      "\n",
      "Primeras 5 filas:\n",
      "    Timestamp_ms  EOG_raw  EOG_filtrado  PPG_raw  PPG_filtrado  BPM\n",
      "ID                                                                 \n",
      "0              0      611      2.119196   -12662    -10.210935  0.0\n",
      "1              8    -2097      9.909152   -15130    -83.490696  0.0\n",
      "2             16    -3140     -6.843396   -16798   -337.215300  0.0\n",
      "3             24    -1581   -173.013615   -17906   -917.829791  0.0\n",
      "4             32    -5720   -665.882444   -18510  -1931.357013  0.0\n",
      "\n",
      "Últimas 5 filas:\n",
      "        Timestamp_ms  EOG_raw  EOG_filtrado  PPG_raw  PPG_filtrado        BPM\n",
      "ID                                                                           \n",
      "240513       1924104    -6386 -5.003244e+16   -10314 -11482.090344  72.533849\n",
      "240514       1924112    -1949 -5.003714e+16   -10540 -10673.865580  72.533849\n",
      "240515       1924120    -3674 -5.004176e+16   -11478  -9982.387787  72.533849\n",
      "240516       1924128    -1844 -5.004629e+16   -11923  -9411.318100  72.533849\n",
      "240517       1924136       74 -5.005073e+16   -12418  -8961.177724  72.533849\n",
      "\n",
      "Forma del DataFrame: (240518, 6)\n",
      "\n",
      "Tiempo total:\n",
      "Total en segundos: 1924.136\n",
      "Tiempo: 32 minutos y 4.136 segundos\n"
     ]
    }
   ],
   "source": [
    "# Cargar el archivo CSV en un DataFrame\n",
    "df = pd.read_csv(path, \n",
    "                 encoding='utf-8',  # Si hay caracteres especiales\n",
    "                 index_col=0)  # Si la primera columna es el índice\n",
    "\n",
    "# Mostrar información básica del DataFrame\n",
    "print(\"Información del DataFrame:\")\n",
    "print(df.info())\n",
    "print(\"\\nPrimeras 5 filas:\")\n",
    "print(df.head())\n",
    "print(\"\\nÚltimas 5 filas:\")\n",
    "print(df.tail())\n",
    "print(f\"\\nForma del DataFrame: {df.shape}\")\n",
    "print(f\"\\nTiempo total:\")\n",
    "# Convertir milisegundos a segundos y minutos\n",
    "milisegundos = 1924136\n",
    "\n",
    "# Convertir a segundos\n",
    "segundos_total = milisegundos / 1000\n",
    "print(f\"Total en segundos: {segundos_total}\")\n",
    "\n",
    "# Convertir a minutos y segundos\n",
    "minutos = int(segundos_total // 60)\n",
    "segundos = segundos_total % 60\n",
    "\n",
    "print(f\"Tiempo: {minutos} minutos y {segundos:.3f} segundos\")"
   ]
  },
  {
   "cell_type": "code",
   "execution_count": 6,
   "id": "f5e54da9",
   "metadata": {},
   "outputs": [],
   "source": [
    "import ipywidgets as widgets\n",
    "from IPython.display import display"
   ]
  },
  {
   "cell_type": "code",
   "execution_count": 7,
   "id": "f698dc8d",
   "metadata": {},
   "outputs": [],
   "source": [
    "# Habilitar widgets interactivos\n",
    "%matplotlib widget"
   ]
  },
  {
   "cell_type": "code",
   "execution_count": null,
   "id": "8f2664a0",
   "metadata": {},
   "outputs": [
    {
     "data": {
      "application/vnd.jupyter.widget-view+json": {
       "model_id": "d5fcb551f00a4d22b440627c3d613fa1",
       "version_major": 2,
       "version_minor": 0
      },
      "text/plain": [
       "interactive(children=(IntSlider(value=0, description='Inicio (s):', max=1894, step=30, style=SliderStyle(descr…"
      ]
     },
     "metadata": {},
     "output_type": "display_data"
    },
    {
     "data": {
      "text/plain": [
       "<function __main__.plot_eog_section(inicio_segundos=0)>"
      ]
     },
     "execution_count": 8,
     "metadata": {},
     "output_type": "execute_result"
    }
   ],
   "source": [
    "# Convertir timestamp a segundos relativos\n",
    "df['segundos'] = (df['Timestamp_ms'] - df['Timestamp_ms'].iloc[0]) / 1000\n",
    "\n",
    "# Calcular número total de ventanas de 30 segundos\n",
    "duracion_total = df['segundos'].iloc[-1]\n",
    "num_ventanas = int(duracion_total // 30) + 1"
   ]
  },
  {
   "cell_type": "code",
   "execution_count": 9,
   "id": "8567ca5b",
   "metadata": {},
   "outputs": [],
   "source": [
    "def plot_eog_section(inicio_segundos=0):\n",
    "    fig, ax = plt.subplots(figsize=(12, 6))\n",
    "    \n",
    "    # Filtrar datos para ventana de 30 segundos\n",
    "    fin_segundos = inicio_segundos + 30\n",
    "    mask = (df['segundos'] >= inicio_segundos) & (df['segundos'] <= fin_segundos)\n",
    "    datos_ventana = df[mask]\n",
    "    \n",
    "    ax.plot(datos_ventana['segundos'], datos_ventana['PPG_raw'], 'b-', linewidth=0.8)\n",
    "    ax.set_xlabel('Tiempo (segundos)')\n",
    "    ax.set_ylabel('PPG Raw')\n",
    "    ax.set_title(f'PPG Raw - Segundos {inicio_segundos} a {fin_segundos}')\n",
    "    ax.grid(True, alpha=0.3)\n",
    "    ax.set_xlim(inicio_segundos, fin_segundos)\n",
    "    \n",
    "    plt.tight_layout()\n",
    "    plt.show()"
   ]
  },
  {
   "cell_type": "code",
   "execution_count": 10,
   "id": "86bc152b",
   "metadata": {},
   "outputs": [
    {
     "data": {
      "application/vnd.jupyter.widget-view+json": {
       "model_id": "93fbf5a4b04d402db2c7bbb2cce5105e",
       "version_major": 2,
       "version_minor": 0
      },
      "text/plain": [
       "interactive(children=(IntSlider(value=0, description='Inicio (s):', max=1894, step=30, style=SliderStyle(descr…"
      ]
     },
     "metadata": {},
     "output_type": "display_data"
    },
    {
     "data": {
      "text/plain": [
       "<function __main__.plot_eog_section(inicio_segundos=0)>"
      ]
     },
     "execution_count": 10,
     "metadata": {},
     "output_type": "execute_result"
    }
   ],
   "source": [
    "\n",
    "\n",
    "# Crear slider interactivo\n",
    "slider = widgets.IntSlider(\n",
    "    value=0,\n",
    "    min=0,\n",
    "    max=int(duracion_total - 30),\n",
    "    step=30,\n",
    "    description='Inicio (s):',\n",
    "    style={'description_width': 'initial'}\n",
    ")\n",
    "\n",
    "# Conectar slider con la función\n",
    "widgets.interact(plot_eog_section, inicio_segundos=slider)"
   ]
  },
  {
   "cell_type": "markdown",
   "id": "3e122523",
   "metadata": {},
   "source": [
    " Bases de datos"
   ]
  },
  {
   "cell_type": "code",
   "execution_count": 1,
   "id": "cb64148a",
   "metadata": {},
   "outputs": [],
   "source": [
    "import sys\n",
    "import os\n",
    "\n",
    "# Agregar el directorio raíz del proyecto al path\n",
    "project_root = r'd:\\Documentos\\Projects\\Python\\EMDR-Project'\n",
    "if project_root not in sys.path:\n",
    "    sys.path.append(project_root)\n",
    "\n",
    "# Importar el DatabaseManager\n",
    "from src.database.database_manager import DatabaseManager\n",
    "import pandas as pd"
   ]
  },
  {
   "cell_type": "code",
   "execution_count": 2,
   "id": "1534625b",
   "metadata": {},
   "outputs": [
    {
     "name": "stdout",
     "output_type": "stream",
     "text": [
      "=== ESTRUCTURA DE LA BASE DE DATOS ===\n",
      "\n",
      "📋 PACIENTES (3 registros):\n",
      "--------------------------------------------------------------------------------\n",
      " id apellido_paterno apellido_materno nombre fecha_nacimiento  celular      fecha_registro      comentarios\n",
      "  1          Serrudo          Careaga   Eloy       2002-01-01 78337255 2025-06-13 06:15:01           Prueba\n",
      "  2                x                x Carlos       2002-01-01 12345678 2025-06-13 06:15:01 Segundo paciente\n",
      "  3                x                x    seb       2002-01-01 12345678 2025-06-13 06:15:01                x\n",
      "\n",
      "Columnas disponibles: ['id', 'apellido_paterno', 'apellido_materno', 'nombre', 'fecha_nacimiento', 'celular', 'fecha_registro', 'comentarios']\n",
      "\n",
      "================================================================================\n",
      "\n"
     ]
    }
   ],
   "source": [
    "# Verificar conexión y mostrar estructura de las tablas\n",
    "print(\"=== ESTRUCTURA DE LA BASE DE DATOS ===\\n\")\n",
    "\n",
    "# Obtener todos los pacientes\n",
    "pacientes = DatabaseManager.get_all_patients()\n",
    "print(f\"📋 PACIENTES ({len(pacientes)} registros):\")\n",
    "print(\"-\" * 80)\n",
    "\n",
    "if pacientes:\n",
    "    df_pacientes = pd.DataFrame(pacientes)\n",
    "    print(df_pacientes.to_string(index=False))\n",
    "    print(\"\\nColumnas disponibles:\", list(df_pacientes.columns))\n",
    "else:\n",
    "    print(\"No hay pacientes registrados\")\n",
    "\n",
    "print(\"\\n\" + \"=\"*80 + \"\\n\")"
   ]
  },
  {
   "cell_type": "code",
   "execution_count": null,
   "id": "90c2f2e0",
   "metadata": {},
   "outputs": [
    {
     "name": "stdout",
     "output_type": "stream",
     "text": [
      "🔬 SESIONES:\n",
      "--------------------------------------------------------------------------------\n",
      "Total de sesiones: 3\n",
      " id               fecha                                                                   comentarios  paciente_id      paciente_nombre\n",
      "  1 2025-05-26 16:41:51  Sesión actualizada el 2025-05-26 16:43:23. Datos almacenados: 5545 muestras.            1 Serrudo Careaga Eloy\n",
      "  2 2025-05-28 19:16:09 Sesión actualizada el 2025-05-28 19:16:13. Datos almacenados: 18895 muestras.            2           x x Carlos\n",
      "  3 2025-05-29 10:53:39 Sesión actualizada el 2025-05-29 10:53:43. Datos almacenados: 15646 muestras.            3              x x seb\n",
      "\n",
      "Columnas disponibles: ['id', 'fecha', 'comentarios', 'paciente_id', 'paciente_nombre']\n",
      "\n",
      "================================================================================\n",
      "\n"
     ]
    }
   ],
   "source": [
    "# Obtener todas las sesiones (necesitamos iterar por cada paciente)\n",
    "print(f\"🔬 SESIONES:\")\n",
    "print(\"-\" * 80)\n",
    "\n",
    "all_sessions = []\n",
    "\n",
    "if pacientes:\n",
    "    for paciente in pacientes:\n",
    "        patient_id = paciente['id']\n",
    "        patient_name = f\"{paciente['apellido_paterno']} {paciente['apellido_materno']} {paciente['nombre']}\"\n",
    "        \n",
    "        # Obtener sesiones del paciente\n",
    "        sesiones = DatabaseManager.get_sessions_for_patient(patient_id)\n",
    "        \n",
    "        # Agregar información del paciente a cada sesión\n",
    "        for sesion in sesiones:\n",
    "            sesion['paciente_id'] = patient_id\n",
    "            sesion['paciente_nombre'] = patient_name\n",
    "            all_sessions.append(sesion)\n",
    "\n",
    "if all_sessions:\n",
    "    df_sesiones = pd.DataFrame(all_sessions)\n",
    "    print(f\"Total de sesiones: {len(all_sessions)}\")\n",
    "    print(df_sesiones.to_string(index=False))\n",
    "    print(\"\\nColumnas disponibles:\", list(df_sesiones.columns))\n",
    "else:\n",
    "    print(\"No hay sesiones registradas\")\n",
    "\n",
    "print(\"\\n\" + \"=\"*80 + \"\\n\")"
   ]
  },
  {
   "cell_type": "code",
   "execution_count": 6,
   "id": "b939a91f",
   "metadata": {},
   "outputs": [],
   "source": [
    "import numpy as np\n",
    "import pickle\n",
    "import zlib"
   ]
  },
  {
   "cell_type": "code",
   "execution_count": 7,
   "id": "4fe0740e",
   "metadata": {},
   "outputs": [],
   "source": [
    "def generar_timestamps_ms(num_muestras, frecuencia_hz=125):\n",
    "    \"\"\"\n",
    "    Genera timestamps en milisegundos comenzando desde 0\n",
    "    \n",
    "    Args:\n",
    "        num_muestras: Número total de muestras\n",
    "        frecuencia_hz: Frecuencia de muestreo (125 Hz por defecto)\n",
    "    \n",
    "    Returns:\n",
    "        numpy array con timestamps en milisegundos\n",
    "    \"\"\"\n",
    "    # Calcular intervalo entre muestras en milisegundos\n",
    "    intervalo_ms = 1000 / frecuencia_hz  # 1000ms / 125Hz = 8ms entre muestras\n",
    "    \n",
    "    # Generar array de timestamps comenzando en 0\n",
    "    timestamps = np.arange(num_muestras) * intervalo_ms\n",
    "    \n",
    "    return timestamps.astype(np.int64)\n",
    "\n",
    "def comprimir_datos(datos):\n",
    "    \"\"\"Comprime datos usando pickle + zlib\"\"\"\n",
    "    pickled = pickle.dumps(datos)\n",
    "    compressed = zlib.compress(pickled)\n",
    "    return compressed"
   ]
  },
  {
   "cell_type": "code",
   "execution_count": 8,
   "id": "afc24390",
   "metadata": {},
   "outputs": [],
   "source": [
    "# Datos de las sesiones existentes\n",
    "sesiones_info = [\n",
    "    {\"id\": 1, \"muestras\": 5545},\n",
    "    {\"id\": 2, \"muestras\": 18895}, \n",
    "    {\"id\": 3, \"muestras\": 15646}\n",
    "]"
   ]
  },
  {
   "cell_type": "code",
   "execution_count": 10,
   "id": "faacb776",
   "metadata": {},
   "outputs": [
    {
     "name": "stdout",
     "output_type": "stream",
     "text": [
      "🔄 Generando timestamps para las sesiones (comenzando en 0)...\n",
      "------------------------------------------------------------\n",
      "✅ Sesión 1:\n",
      "   - Muestras: 5,545\n",
      "   - Duración: 0.74 minutos (44.4 segundos)\n",
      "   - Primer timestamp: 0 ms\n",
      "   - Último timestamp: 44352 ms\n",
      "   - Intervalo: 8.0 ms entre muestras\n",
      "✅ Sesión 2:\n",
      "   - Muestras: 18,895\n",
      "   - Duración: 2.52 minutos (151.2 segundos)\n",
      "   - Primer timestamp: 0 ms\n",
      "   - Último timestamp: 151152 ms\n",
      "   - Intervalo: 8.0 ms entre muestras\n",
      "✅ Sesión 3:\n",
      "   - Muestras: 15,646\n",
      "   - Duración: 2.09 minutos (125.2 segundos)\n",
      "   - Primer timestamp: 0 ms\n",
      "   - Último timestamp: 125160 ms\n",
      "   - Intervalo: 8.0 ms entre muestras\n"
     ]
    }
   ],
   "source": [
    "print(\"🔄 Generando timestamps para las sesiones (comenzando en 0)...\")\n",
    "print(\"-\" * 60)\n",
    "\n",
    "for sesion in sesiones_info:\n",
    "    session_id = sesion[\"id\"]\n",
    "    num_muestras = sesion[\"muestras\"]\n",
    "    \n",
    "    # Generar el arreglo de timestamps comenzando en 0\n",
    "    timestamps_ms = generar_timestamps_ms(num_muestras, 125)\n",
    "    \n",
    "    # Comprimir el arreglo\n",
    "    datos_comprimidos = comprimir_datos(timestamps_ms)\n",
    "    \n",
    "    # Actualizar solo la columna datos_ms\n",
    "    success = DatabaseManager.update_session(\n",
    "        session_id=session_id,\n",
    "        datos_ms=datos_comprimidos\n",
    "    )\n",
    "    \n",
    "    if success:\n",
    "        duracion_ms = timestamps_ms[-1]  # Último timestamp = duración total\n",
    "        duracion_segundos = duracion_ms / 1000\n",
    "        duracion_minutos = duracion_segundos / 60\n",
    "        \n",
    "        print(f\"✅ Sesión {session_id}:\")\n",
    "        print(f\"   - Muestras: {num_muestras:,}\")\n",
    "        print(f\"   - Duración: {duracion_minutos:.2f} minutos ({duracion_segundos:.1f} segundos)\")\n",
    "        print(f\"   - Primer timestamp: {timestamps_ms[0]} ms\")\n",
    "        print(f\"   - Último timestamp: {timestamps_ms[-1]} ms\")\n",
    "        print(f\"   - Intervalo: 8.0 ms entre muestras\")\n",
    "    else:\n",
    "        print(f\"❌ Error actualizando sesión {session_id}\")"
   ]
  },
  {
   "cell_type": "code",
   "execution_count": 11,
   "id": "3b4d223b",
   "metadata": {},
   "outputs": [
    {
     "name": "stdout",
     "output_type": "stream",
     "text": [
      "🔍 Verificando datos guardados...\n",
      "------------------------------------------------------------\n",
      "✅ Sesión 1 - Datos recuperados correctamente:\n",
      "   - Número de timestamps: 5,545\n",
      "   - Primer timestamp: 0 ms\n",
      "   - Último timestamp: 44352 ms\n",
      "   - Duración total: 44.4 segundos\n",
      "   - Diferencia promedio: 8.0 ms\n",
      "\n",
      "✅ Sesión 2 - Datos recuperados correctamente:\n",
      "   - Número de timestamps: 18,895\n",
      "   - Primer timestamp: 0 ms\n",
      "   - Último timestamp: 151152 ms\n",
      "   - Duración total: 151.2 segundos\n",
      "   - Diferencia promedio: 8.0 ms\n",
      "\n",
      "✅ Sesión 3 - Datos recuperados correctamente:\n",
      "   - Número de timestamps: 15,646\n",
      "   - Primer timestamp: 0 ms\n",
      "   - Último timestamp: 125160 ms\n",
      "   - Duración total: 125.2 segundos\n",
      "   - Diferencia promedio: 8.0 ms\n",
      "\n",
      "📊 Resumen:\n",
      "------------------------------------------------------------\n",
      "Total de muestras procesadas: 40,086\n",
      "Frecuencia de muestreo: 125 Hz\n",
      "Intervalo entre muestras: 8 ms\n",
      "Timestamps generados comenzando en 0 ms para cada sesión\n"
     ]
    }
   ],
   "source": [
    "print(\"🔍 Verificando datos guardados...\")\n",
    "print(\"-\" * 60)\n",
    "\n",
    "# Verificar que los datos se guardaron correctamente\n",
    "for sesion in sesiones_info:\n",
    "    session_id = sesion[\"id\"]\n",
    "    \n",
    "    # Recuperar datos de la sesión\n",
    "    session_data = DatabaseManager.get_session_data(session_id)\n",
    "    \n",
    "    if session_data and session_data.get(\"ms_data\") is not None:\n",
    "        ms_data = session_data[\"ms_data\"]\n",
    "        print(f\"✅ Sesión {session_id} - Datos recuperados correctamente:\")\n",
    "        print(f\"   - Número de timestamps: {len(ms_data):,}\")\n",
    "        print(f\"   - Primer timestamp: {ms_data[0]} ms\")\n",
    "        print(f\"   - Último timestamp: {ms_data[-1]} ms\")\n",
    "        print(f\"   - Duración total: {ms_data[-1]/1000:.1f} segundos\")\n",
    "        print(f\"   - Diferencia promedio: {np.mean(np.diff(ms_data)):.1f} ms\")\n",
    "    else:\n",
    "        print(f\"❌ Sesión {session_id} - Error recuperando datos\")\n",
    "    \n",
    "    print()\n",
    "\n",
    "print(\"📊 Resumen:\")\n",
    "print(\"-\" * 60)\n",
    "total_muestras = sum(s[\"muestras\"] for s in sesiones_info)\n",
    "print(f\"Total de muestras procesadas: {total_muestras:,}\")\n",
    "print(f\"Frecuencia de muestreo: 125 Hz\")\n",
    "print(f\"Intervalo entre muestras: 8 ms\")\n",
    "print(\"Timestamps generados comenzando en 0 ms para cada sesión\")"
   ]
  }
 ],
 "metadata": {
  "kernelspec": {
   "display_name": "base",
   "language": "python",
   "name": "python3"
  },
  "language_info": {
   "codemirror_mode": {
    "name": "ipython",
    "version": 3
   },
   "file_extension": ".py",
   "mimetype": "text/x-python",
   "name": "python",
   "nbconvert_exporter": "python",
   "pygments_lexer": "ipython3",
   "version": "3.11.8"
  }
 },
 "nbformat": 4,
 "nbformat_minor": 5
}
