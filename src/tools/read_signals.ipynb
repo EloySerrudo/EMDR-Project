{
 "cells": [
  {
   "cell_type": "code",
   "execution_count": 2,
   "id": "048616ac",
   "metadata": {},
   "outputs": [],
   "source": [
    "import sys\n",
    "import numpy as np\n",
    "import matplotlib.pyplot as plt\n",
    "import scipy as sp\n",
    "import pandas as pd\n",
    "\n",
    "# Agregar el directorio raíz del proyecto al path\n",
    "project_root = r'd:\\Documentos\\Projects\\Python\\EMDR-Project'\n",
    "if project_root not in sys.path:\n",
    "    sys.path.append(project_root)\n",
    "\n",
    "# Importar el DatabaseManager\n",
    "from src.database.database_manager import DatabaseManager"
   ]
  },
  {
   "cell_type": "code",
   "execution_count": 2,
   "id": "80f8be0b",
   "metadata": {},
   "outputs": [
    {
     "name": "stdout",
     "output_type": "stream",
     "text": [
      "📋 PACIENTES (7 registros):\n"
     ]
    }
   ],
   "source": [
    "pacientes = DatabaseManager.get_all_patients()\n",
    "print(f\"📋 PACIENTES ({len(pacientes)} registros):\")"
   ]
  },
  {
   "cell_type": "code",
   "execution_count": 3,
   "id": "ab9d22c9",
   "metadata": {},
   "outputs": [
    {
     "data": {
      "text/plain": [
       "{'id': 1,\n",
       " 'apellido_paterno': 'Serrudo',\n",
       " 'apellido_materno': 'Careaga',\n",
       " 'nombre': 'Eloy',\n",
       " 'fecha_nacimiento': '2002-01-01',\n",
       " 'edad': 23,\n",
       " 'celular': '78337255',\n",
       " 'fecha_registro': '2025-06-13 06:15:01',\n",
       " 'comentarios': 'Prueba'}"
      ]
     },
     "execution_count": 3,
     "metadata": {},
     "output_type": "execute_result"
    }
   ],
   "source": [
    "pacientes[3]"
   ]
  },
  {
   "cell_type": "code",
   "execution_count": 4,
   "id": "bb6b6880",
   "metadata": {},
   "outputs": [
    {
     "name": "stdout",
     "output_type": "stream",
     "text": [
      "📋 SESIÓN (1): 2025-05-26 16:41:51.132, LONGITUD: 9\n"
     ]
    }
   ],
   "source": [
    "sesion = DatabaseManager.get_session(session_id=1)\n",
    "print(f\"📋 SESIÓN ({sesion['id']}): {sesion['fecha']}, LONGITUD: {len(sesion)}\")"
   ]
  },
  {
   "cell_type": "code",
   "execution_count": 5,
   "id": "7cb9d06d",
   "metadata": {},
   "outputs": [
    {
     "data": {
      "text/plain": [
       "NoneType"
      ]
     },
     "execution_count": 5,
     "metadata": {},
     "output_type": "execute_result"
    }
   ],
   "source": [
    "type(sesion.get('datos_ms'))"
   ]
  },
  {
   "cell_type": "code",
   "execution_count": 6,
   "id": "fe1cc144",
   "metadata": {},
   "outputs": [
    {
     "name": "stdout",
     "output_type": "stream",
     "text": [
      "📋 SESIÓN COMPLETA (1), LONGITUD: 13\n"
     ]
    }
   ],
   "source": [
    "sesion_completa = DatabaseManager.get_session(session_id=1, signal_data=True)\n",
    "print(f\"📋 SESIÓN COMPLETA ({sesion_completa['id']}), LONGITUD: {len(sesion_completa)}\")"
   ]
  },
  {
   "cell_type": "code",
   "execution_count": 7,
   "id": "6dc1ef78",
   "metadata": {},
   "outputs": [
    {
     "data": {
      "text/plain": [
       "numpy.ndarray"
      ]
     },
     "execution_count": 7,
     "metadata": {},
     "output_type": "execute_result"
    }
   ],
   "source": [
    "datos_ms = sesion_completa.get('datos_ms')\n",
    "type(datos_ms)"
   ]
  },
  {
   "cell_type": "code",
   "execution_count": 8,
   "id": "5583dd02",
   "metadata": {},
   "outputs": [
    {
     "data": {
      "text/plain": [
       "array([44280, 44288, 44296, 44304, 44312, 44320, 44328, 44336, 44344],\n",
       "      dtype=int64)"
      ]
     },
     "execution_count": 8,
     "metadata": {},
     "output_type": "execute_result"
    }
   ],
   "source": [
    "datos_ms[-10:-1]"
   ]
  },
  {
   "cell_type": "code",
   "execution_count": 9,
   "id": "05991597",
   "metadata": {},
   "outputs": [
    {
     "data": {
      "text/plain": [
       "numpy.ndarray"
      ]
     },
     "execution_count": 9,
     "metadata": {},
     "output_type": "execute_result"
    }
   ],
   "source": [
    "datos_ppg = sesion_completa.get('datos_ppg')\n",
    "type(datos_ppg)"
   ]
  },
  {
   "cell_type": "code",
   "execution_count": 10,
   "id": "f7df0296",
   "metadata": {},
   "outputs": [
    {
     "name": "stdout",
     "output_type": "stream",
     "text": [
      "📋 SESIÓN COMPLETA (1), LONGITUD: 13\n"
     ]
    }
   ],
   "source": [
    "sesion_completa_2 = DatabaseManager.get_session(session_id=8, signal_data=True)\n",
    "print(f\"📋 SESIÓN COMPLETA ({sesion_completa['id']}), LONGITUD: {len(sesion_completa)}\")"
   ]
  },
  {
   "cell_type": "code",
   "execution_count": 11,
   "id": "cd0f8629",
   "metadata": {},
   "outputs": [
    {
     "data": {
      "text/plain": [
       "NoneType"
      ]
     },
     "execution_count": 11,
     "metadata": {},
     "output_type": "execute_result"
    }
   ],
   "source": [
    "datos_ppg_2 = sesion_completa_2.get('datos_ppg')\n",
    "type(datos_ppg_2)"
   ]
  },
  {
   "cell_type": "markdown",
   "id": "67a085e7",
   "metadata": {},
   "source": [
    "## PRUEBA DE Paciente 4 Sesion 1"
   ]
  },
  {
   "cell_type": "code",
   "execution_count": null,
   "id": "0d6c7e65",
   "metadata": {},
   "outputs": [],
   "source": [
    "sesion_paciente_4 = DatabaseManager.get_session(session_id=4, signal_data=True)\n",
    "print(f\"📋 SESIÓN COMPLETA ({sesion_completa['id']}), LONGITUD: {len(sesion_completa)}\")"
   ]
  },
  {
   "cell_type": "code",
   "execution_count": 4,
   "id": "c03b21f0",
   "metadata": {},
   "outputs": [
    {
     "data": {
      "text/plain": [
       "NoneType"
      ]
     },
     "execution_count": 4,
     "metadata": {},
     "output_type": "execute_result"
    }
   ],
   "source": [
    "datos_ms_4 = sesion_paciente_4.get('datos_ms')\n",
    "type(datos_ms_4)"
   ]
  },
  {
   "cell_type": "code",
   "execution_count": 5,
   "id": "02b30a4f",
   "metadata": {},
   "outputs": [
    {
     "ename": "TypeError",
     "evalue": "'NoneType' object is not subscriptable",
     "output_type": "error",
     "traceback": [
      "\u001b[1;31m---------------------------------------------------------------------------\u001b[0m",
      "\u001b[1;31mTypeError\u001b[0m                                 Traceback (most recent call last)",
      "Cell \u001b[1;32mIn[5], line 1\u001b[0m\n\u001b[1;32m----> 1\u001b[0m datos_ms_4[\u001b[38;5;241m-\u001b[39m\u001b[38;5;241m10\u001b[39m:\u001b[38;5;241m-\u001b[39m\u001b[38;5;241m1\u001b[39m]\n",
      "\u001b[1;31mTypeError\u001b[0m: 'NoneType' object is not subscriptable"
     ]
    }
   ],
   "source": [
    "datos_ms_4[-10:-1]"
   ]
  },
  {
   "cell_type": "code",
   "execution_count": 15,
   "id": "e4321e1a",
   "metadata": {},
   "outputs": [
    {
     "data": {
      "text/plain": [
       "numpy.int32"
      ]
     },
     "execution_count": 15,
     "metadata": {},
     "output_type": "execute_result"
    }
   ],
   "source": [
    "datos_ppg_4 = sesion_paciente_4.get('datos_ppg')\n",
    "type(datos_ppg_4[1])"
   ]
  },
  {
   "cell_type": "code",
   "execution_count": 16,
   "id": "8c03d285",
   "metadata": {},
   "outputs": [
    {
     "data": {
      "text/plain": [
       "'23:39:51.477'"
      ]
     },
     "execution_count": 16,
     "metadata": {},
     "output_type": "execute_result"
    }
   ],
   "source": [
    "datos_ms_4[0]"
   ]
  },
  {
   "cell_type": "code",
   "execution_count": 17,
   "id": "079c97ea",
   "metadata": {},
   "outputs": [
    {
     "data": {
      "text/plain": [
       "datetime.datetime(1900, 1, 1, 23, 39, 51, 477000)"
      ]
     },
     "execution_count": 17,
     "metadata": {},
     "output_type": "execute_result"
    }
   ],
   "source": [
    "from datetime import datetime\n",
    "\n",
    "# Convertir los timestamps a milisegundos relativos\n",
    "\n",
    "# Convertir el primer timestamp a objeto datetime como referencia\n",
    "tiempo_inicial = datetime.strptime(datos_ms_4[0], '%H:%M:%S.%f')\n",
    "tiempo_inicial"
   ]
  },
  {
   "cell_type": "code",
   "execution_count": 18,
   "id": "69a3bc1c",
   "metadata": {},
   "outputs": [
    {
     "data": {
      "text/plain": [
       "0"
      ]
     },
     "execution_count": 18,
     "metadata": {},
     "output_type": "execute_result"
    }
   ],
   "source": [
    "tiempo_0 = datetime.strptime(datos_ms_4[0], '%H:%M:%S.%f') - tiempo_inicial\n",
    "int(tiempo_0.total_seconds() * 1000)"
   ]
  },
  {
   "cell_type": "code",
   "execution_count": 19,
   "id": "3297bc1b",
   "metadata": {},
   "outputs": [
    {
     "data": {
      "text/plain": [
       "8"
      ]
     },
     "execution_count": 19,
     "metadata": {},
     "output_type": "execute_result"
    }
   ],
   "source": [
    "tiempo_1 = datetime.strptime(datos_ms_4[1], '%H:%M:%S.%f') - tiempo_inicial\n",
    "int(tiempo_1.total_seconds() * 1000)"
   ]
  },
  {
   "cell_type": "code",
   "execution_count": null,
   "id": "3e375ca3",
   "metadata": {},
   "outputs": [
    {
     "name": "stdout",
     "output_type": "stream",
     "text": [
      "Primeros 10 valores: [0, 8, 16, 24, 32, 40, 48, 56, 64, 72]\n",
      "Últimos 10 valores: [49024, 49032, 49040, 49048, 49056, 49064, 49072, 49080, 49088, 49096]\n"
     ]
    }
   ],
   "source": [
    "# Crear array para almacenar los milisegundos relativos\n",
    "datos_ms_4_relativos = []\n",
    "\n",
    "for timestamp in datos_ms_4:\n",
    "    tiempo_actual = datetime.strptime(timestamp, '%H:%M:%S.%f')\n",
    "    # Calcular la diferencia en milisegundos\n",
    "    diferencia = tiempo_actual - tiempo_inicial\n",
    "    datos_ms_4_relativos.append(int(diferencia.total_seconds() * 1000))\n",
    "\n",
    "print(f\"Primeros 10 valores: {datos_ms_4_relativos[:10]}\")\n",
    "print(f\"Últimos 10 valores: {datos_ms_4_relativos[-10:]}\")"
   ]
  },
  {
   "cell_type": "markdown",
   "id": "98a7bb79",
   "metadata": {},
   "source": [
    "## REVISIÓN DE DATOS"
   ]
  },
  {
   "cell_type": "code",
   "execution_count": 21,
   "id": "cb3f8c00",
   "metadata": {},
   "outputs": [
    {
     "name": "stdout",
     "output_type": "stream",
     "text": [
      "4\n"
     ]
    },
    {
     "data": {
      "text/plain": [
       "int"
      ]
     },
     "execution_count": 21,
     "metadata": {},
     "output_type": "execute_result"
    }
   ],
   "source": [
    "print(sesion_paciente_4.get('id'))\n",
    "type(sesion_paciente_4.get('id'))"
   ]
  },
  {
   "cell_type": "code",
   "execution_count": 22,
   "id": "0a3eebef",
   "metadata": {},
   "outputs": [
    {
     "name": "stdout",
     "output_type": "stream",
     "text": [
      "4\n"
     ]
    },
    {
     "data": {
      "text/plain": [
       "int"
      ]
     },
     "execution_count": 22,
     "metadata": {},
     "output_type": "execute_result"
    }
   ],
   "source": [
    "print(sesion_paciente_4.get('id_paciente'))\n",
    "type(sesion_paciente_4.get('id_paciente'))"
   ]
  },
  {
   "cell_type": "code",
   "execution_count": 23,
   "id": "e8443151",
   "metadata": {},
   "outputs": [
    {
     "name": "stdout",
     "output_type": "stream",
     "text": [
      "2025-07-17 23:38:11.321\n"
     ]
    },
    {
     "data": {
      "text/plain": [
       "str"
      ]
     },
     "execution_count": 23,
     "metadata": {},
     "output_type": "execute_result"
    }
   ],
   "source": [
    "print(sesion_paciente_4.get('fecha'))\n",
    "type(sesion_paciente_4.get('fecha'))"
   ]
  },
  {
   "cell_type": "code",
   "execution_count": 24,
   "id": "aae0bf67",
   "metadata": {},
   "outputs": [
    {
     "name": "stdout",
     "output_type": "stream",
     "text": [
      "Sin especificar\n"
     ]
    },
    {
     "data": {
      "text/plain": [
       "str"
      ]
     },
     "execution_count": 24,
     "metadata": {},
     "output_type": "execute_result"
    }
   ],
   "source": [
    "print(sesion_paciente_4.get('objetivo'))\n",
    "type(sesion_paciente_4.get('objetivo'))"
   ]
  },
  {
   "cell_type": "code",
   "execution_count": 25,
   "id": "52239341",
   "metadata": {},
   "outputs": [
    {
     "name": "stdout",
     "output_type": "stream",
     "text": [
      "Sesión actualizada el 2025-07-17 23:40:56. Datos almacenados: 6138 muestras.\n"
     ]
    },
    {
     "data": {
      "text/plain": [
       "str"
      ]
     },
     "execution_count": 25,
     "metadata": {},
     "output_type": "execute_result"
    }
   ],
   "source": [
    "print(sesion_paciente_4.get('comentarios'))\n",
    "type(sesion_paciente_4.get('comentarios'))"
   ]
  },
  {
   "cell_type": "code",
   "execution_count": 26,
   "id": "3659b416",
   "metadata": {},
   "outputs": [
    {
     "name": "stdout",
     "output_type": "stream",
     "text": [
      "<class 'numpy.ndarray'>\n",
      "<class 'numpy.ndarray'>\n",
      "<class 'numpy.ndarray'>\n",
      "<class 'numpy.ndarray'>\n"
     ]
    }
   ],
   "source": [
    "print(type(sesion_paciente_4.get('datos_ms')))\n",
    "print(type(sesion_paciente_4.get('datos_eog')))\n",
    "print(type(sesion_paciente_4.get('datos_ppg')))\n",
    "print(type(sesion_paciente_4.get('datos_bpm')))"
   ]
  },
  {
   "cell_type": "code",
   "execution_count": 27,
   "id": "e8c9236d",
   "metadata": {},
   "outputs": [
    {
     "data": {
      "text/plain": [
       "list"
      ]
     },
     "execution_count": 27,
     "metadata": {},
     "output_type": "execute_result"
    }
   ],
   "source": [
    "datos_eog_4 = sesion_paciente_4.get('datos_eog')\n",
    "datos_eog_4 = list(map(int, datos_eog_4))  # Convertir a lista de enteros\n",
    "type(datos_eog_4)"
   ]
  },
  {
   "cell_type": "code",
   "execution_count": 28,
   "id": "4a7a50ed",
   "metadata": {},
   "outputs": [
    {
     "data": {
      "text/plain": [
       "list"
      ]
     },
     "execution_count": 28,
     "metadata": {},
     "output_type": "execute_result"
    }
   ],
   "source": [
    "datos_ppg_4 = sesion_paciente_4.get('datos_ppg')\n",
    "datos_ppg_4 = list(map(int, datos_ppg_4))  # Convertir a lista de enteros\n",
    "type(datos_ppg_4)"
   ]
  },
  {
   "cell_type": "code",
   "execution_count": 29,
   "id": "c9d3abe9",
   "metadata": {},
   "outputs": [
    {
     "data": {
      "text/plain": [
       "list"
      ]
     },
     "execution_count": 29,
     "metadata": {},
     "output_type": "execute_result"
    }
   ],
   "source": [
    "datos_bpm_4 = sesion_paciente_4.get('datos_bpm')\n",
    "datos_bpm_4 = list(map(int, datos_bpm_4))  # Convertir a lista de enteros\n",
    "type(datos_bpm_4)"
   ]
  },
  {
   "cell_type": "code",
   "execution_count": 30,
   "id": "0e27e92a",
   "metadata": {},
   "outputs": [
    {
     "name": "stdout",
     "output_type": "stream",
     "text": [
      "<class 'list'>\n"
     ]
    },
    {
     "data": {
      "text/plain": [
       "int"
      ]
     },
     "execution_count": 30,
     "metadata": {},
     "output_type": "execute_result"
    }
   ],
   "source": [
    "print(type(datos_ms_4_relativos))\n",
    "type(datos_ms_4_relativos[1])"
   ]
  },
  {
   "cell_type": "code",
   "execution_count": 32,
   "id": "e2a4b0df",
   "metadata": {},
   "outputs": [],
   "source": [
    "a = DatabaseManager.add_session(\n",
    "                    id_paciente=sesion_paciente_4.get('id_paciente'),\n",
    "                    fecha=sesion_paciente_4.get('fecha'),\n",
    "                    objetivo=sesion_paciente_4.get('objetivo'),\n",
    "                    datos_ms=datos_ms_4_relativos,\n",
    "                    datos_eog=datos_eog_4,\n",
    "                    datos_ppg=datos_ppg_4,\n",
    "                    datos_bpm=datos_bpm_4,\n",
    "                    comentarios=sesion_paciente_4.get('comentarios')\n",
    "                )"
   ]
  },
  {
   "cell_type": "code",
   "execution_count": 33,
   "id": "ef39ac0d",
   "metadata": {},
   "outputs": [
    {
     "data": {
      "text/plain": [
       "0"
      ]
     },
     "execution_count": 33,
     "metadata": {},
     "output_type": "execute_result"
    }
   ],
   "source": [
    "a"
   ]
  },
  {
   "cell_type": "markdown",
   "id": "5710cd71",
   "metadata": {},
   "source": [
    "## REVISIÓN DEL ARREGLO"
   ]
  },
  {
   "cell_type": "code",
   "execution_count": 34,
   "id": "970dbe10",
   "metadata": {},
   "outputs": [],
   "source": [
    "sesion_paciente_4 = DatabaseManager.get_session(session_id=4, signal_data=True)"
   ]
  },
  {
   "cell_type": "code",
   "execution_count": 35,
   "id": "3d4bdba2",
   "metadata": {},
   "outputs": [],
   "source": [
    "datos_ms_4 = sesion_paciente_4.get('datos_ms')"
   ]
  },
  {
   "cell_type": "code",
   "execution_count": 39,
   "id": "8ccf060e",
   "metadata": {},
   "outputs": [
    {
     "name": "stdout",
     "output_type": "stream",
     "text": [
      "<class 'numpy.ndarray'>\n",
      "8\n"
     ]
    },
    {
     "data": {
      "text/plain": [
       "numpy.int32"
      ]
     },
     "execution_count": 39,
     "metadata": {},
     "output_type": "execute_result"
    }
   ],
   "source": [
    "print(type(datos_ms_4))\n",
    "print(datos_ms_4[1])\n",
    "type(datos_ms_4[1])"
   ]
  },
  {
   "cell_type": "code",
   "execution_count": 41,
   "id": "91981a64",
   "metadata": {},
   "outputs": [
    {
     "data": {
      "text/plain": [
       "array([49024, 49032, 49040, 49048, 49056, 49064, 49072, 49080, 49088,\n",
       "       49096])"
      ]
     },
     "execution_count": 41,
     "metadata": {},
     "output_type": "execute_result"
    }
   ],
   "source": [
    "datos_ms_4[-10:]"
   ]
  }
 ],
 "metadata": {
  "kernelspec": {
   "display_name": "base",
   "language": "python",
   "name": "python3"
  },
  "language_info": {
   "codemirror_mode": {
    "name": "ipython",
    "version": 3
   },
   "file_extension": ".py",
   "mimetype": "text/x-python",
   "name": "python",
   "nbconvert_exporter": "python",
   "pygments_lexer": "ipython3",
   "version": "3.11.8"
  }
 },
 "nbformat": 4,
 "nbformat_minor": 5
}
